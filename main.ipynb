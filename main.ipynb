{
 "cells": [
  {
   "cell_type": "markdown",
   "id": "be2e7b7d",
   "metadata": {},
   "source": [
    "# LightRAG Quick Start Jupyter Notebook\n",
    "\n",
    "This notebook demonstrates how to use LightRAG with your own data."
   ]
  },
  {
   "cell_type": "code",
   "execution_count": 8,
   "id": "fdc32b94",
   "metadata": {},
   "outputs": [
    {
     "name": "stdout",
     "output_type": "stream",
     "text": [
      "Requirement already satisfied: faiss-cpu in /usr/local/lib/python3.11/site-packages (1.12.0)\n",
      "Requirement already satisfied: python-dotenv in /usr/local/lib/python3.11/site-packages (1.1.1)\n",
      "Requirement already satisfied: lightrag-hku in /usr/local/lib/python3.11/site-packages (1.4.9.1)\n",
      "Collecting lightrag-hku\n",
      "  Downloading lightrag_hku-1.4.9.2-py3-none-any.whl.metadata (80 kB)\n",
      "Requirement already satisfied: neo4j in /usr/local/lib/python3.11/site-packages (6.0.2)\n",
      "Requirement already satisfied: sentence-transformers in /usr/local/lib/python3.11/site-packages (5.1.1)\n",
      "Requirement already satisfied: pytest in /usr/local/lib/python3.11/site-packages (8.4.2)\n",
      "Requirement already satisfied: accelerate in /usr/local/lib/python3.11/site-packages (1.10.1)\n",
      "Requirement already satisfied: bitsandbytes in /usr/local/lib/python3.11/site-packages (0.42.0)\n",
      "Requirement already satisfied: numpy<3.0,>=1.25.0 in /usr/local/lib/python3.11/site-packages (from faiss-cpu) (2.3.3)\n",
      "Requirement already satisfied: packaging in /usr/local/lib/python3.11/site-packages (from faiss-cpu) (24.1)\n",
      "Requirement already satisfied: aiohttp in /usr/local/lib/python3.11/site-packages (from lightrag-hku) (3.12.15)\n",
      "Requirement already satisfied: configparser in /usr/local/lib/python3.11/site-packages (from lightrag-hku) (7.2.0)\n",
      "Requirement already satisfied: dotenv in /usr/local/lib/python3.11/site-packages (from lightrag-hku) (0.9.9)\n",
      "Requirement already satisfied: future in /usr/local/lib/python3.11/site-packages (from lightrag-hku) (1.0.0)\n",
      "Requirement already satisfied: json_repair in /usr/local/lib/python3.11/site-packages (from lightrag-hku) (0.52.0)\n",
      "Requirement already satisfied: nano-vectordb in /usr/local/lib/python3.11/site-packages (from lightrag-hku) (0.0.4.3)\n",
      "Requirement already satisfied: networkx in /usr/local/lib/python3.11/site-packages (from lightrag-hku) (3.5)\n",
      "Requirement already satisfied: pandas>=2.0.0 in /usr/local/lib/python3.11/site-packages (from lightrag-hku) (2.3.3)\n",
      "Requirement already satisfied: pipmaster in /usr/local/lib/python3.11/site-packages (from lightrag-hku) (1.0.8)\n",
      "Requirement already satisfied: pydantic in /usr/local/lib/python3.11/site-packages (from lightrag-hku) (2.11.10)\n",
      "Requirement already satisfied: pypinyin in /usr/local/lib/python3.11/site-packages (from lightrag-hku) (0.55.0)\n",
      "Requirement already satisfied: setuptools in /usr/local/lib/python3.11/site-packages (from lightrag-hku) (74.1.2)\n",
      "Requirement already satisfied: tenacity in /usr/local/lib/python3.11/site-packages (from lightrag-hku) (9.1.2)\n",
      "Requirement already satisfied: tiktoken in /usr/local/lib/python3.11/site-packages (from lightrag-hku) (0.11.0)\n",
      "Requirement already satisfied: xlsxwriter>=3.1.0 in /usr/local/lib/python3.11/site-packages (from lightrag-hku) (3.2.9)\n",
      "Requirement already satisfied: pytz in /usr/local/lib/python3.11/site-packages (from neo4j) (2025.2)\n",
      "Requirement already satisfied: transformers<5.0.0,>=4.41.0 in /usr/local/lib/python3.11/site-packages (from sentence-transformers) (4.57.0)\n",
      "Requirement already satisfied: tqdm in /usr/local/lib/python3.11/site-packages (from sentence-transformers) (4.67.1)\n",
      "Requirement already satisfied: torch>=1.11.0 in /usr/local/lib/python3.11/site-packages (from sentence-transformers) (2.2.2)\n",
      "Requirement already satisfied: scikit-learn in /usr/local/lib/python3.11/site-packages (from sentence-transformers) (1.7.2)\n",
      "Requirement already satisfied: scipy in /usr/local/lib/python3.11/site-packages (from sentence-transformers) (1.16.2)\n",
      "Requirement already satisfied: huggingface-hub>=0.20.0 in /usr/local/lib/python3.11/site-packages (from sentence-transformers) (0.35.3)\n",
      "Requirement already satisfied: Pillow in /usr/local/lib/python3.11/site-packages (from sentence-transformers) (11.3.0)\n",
      "Requirement already satisfied: typing_extensions>=4.5.0 in /Users/josephgeorge/Library/Python/3.11/lib/python/site-packages (from sentence-transformers) (4.15.0)\n",
      "Requirement already satisfied: iniconfig>=1 in /usr/local/lib/python3.11/site-packages (from pytest) (2.1.0)\n",
      "Requirement already satisfied: pluggy<2,>=1.5 in /usr/local/lib/python3.11/site-packages (from pytest) (1.6.0)\n",
      "Requirement already satisfied: pygments>=2.7.2 in /Users/josephgeorge/Library/Python/3.11/lib/python/site-packages (from pytest) (2.19.2)\n",
      "Requirement already satisfied: psutil in /Users/josephgeorge/Library/Python/3.11/lib/python/site-packages (from accelerate) (7.1.0)\n",
      "Requirement already satisfied: pyyaml in /usr/local/lib/python3.11/site-packages (from accelerate) (6.0.3)\n",
      "Requirement already satisfied: safetensors>=0.4.3 in /usr/local/lib/python3.11/site-packages (from accelerate) (0.6.2)\n",
      "Requirement already satisfied: filelock in /usr/local/lib/python3.11/site-packages (from huggingface-hub>=0.20.0->sentence-transformers) (3.19.1)\n",
      "Requirement already satisfied: fsspec>=2023.5.0 in /usr/local/lib/python3.11/site-packages (from huggingface-hub>=0.20.0->sentence-transformers) (2025.9.0)\n",
      "Requirement already satisfied: requests in /usr/local/lib/python3.11/site-packages (from huggingface-hub>=0.20.0->sentence-transformers) (2.32.5)\n",
      "Requirement already satisfied: hf-xet<2.0.0,>=1.1.3 in /usr/local/lib/python3.11/site-packages (from huggingface-hub>=0.20.0->sentence-transformers) (1.1.10)\n",
      "Requirement already satisfied: python-dateutil>=2.8.2 in /Users/josephgeorge/Library/Python/3.11/lib/python/site-packages (from pandas>=2.0.0->lightrag-hku) (2.9.0.post0)\n",
      "Requirement already satisfied: tzdata>=2022.7 in /usr/local/lib/python3.11/site-packages (from pandas>=2.0.0->lightrag-hku) (2025.2)\n",
      "Requirement already satisfied: sympy in /usr/local/lib/python3.11/site-packages (from torch>=1.11.0->sentence-transformers) (1.14.0)\n",
      "Requirement already satisfied: jinja2 in /usr/local/lib/python3.11/site-packages (from torch>=1.11.0->sentence-transformers) (3.1.6)\n",
      "Requirement already satisfied: regex!=2019.12.17 in /usr/local/lib/python3.11/site-packages (from transformers<5.0.0,>=4.41.0->sentence-transformers) (2025.9.18)\n",
      "Requirement already satisfied: tokenizers<=0.23.0,>=0.22.0 in /usr/local/lib/python3.11/site-packages (from transformers<5.0.0,>=4.41.0->sentence-transformers) (0.22.1)\n",
      "Requirement already satisfied: aiohappyeyeballs>=2.5.0 in /usr/local/lib/python3.11/site-packages (from aiohttp->lightrag-hku) (2.6.1)\n",
      "Requirement already satisfied: aiosignal>=1.4.0 in /usr/local/lib/python3.11/site-packages (from aiohttp->lightrag-hku) (1.4.0)\n",
      "Requirement already satisfied: attrs>=17.3.0 in /usr/local/lib/python3.11/site-packages (from aiohttp->lightrag-hku) (25.3.0)\n",
      "Requirement already satisfied: frozenlist>=1.1.1 in /usr/local/lib/python3.11/site-packages (from aiohttp->lightrag-hku) (1.8.0)\n",
      "Requirement already satisfied: multidict<7.0,>=4.5 in /usr/local/lib/python3.11/site-packages (from aiohttp->lightrag-hku) (6.6.4)\n",
      "Requirement already satisfied: propcache>=0.2.0 in /usr/local/lib/python3.11/site-packages (from aiohttp->lightrag-hku) (0.4.0)\n",
      "Requirement already satisfied: yarl<2.0,>=1.17.0 in /usr/local/lib/python3.11/site-packages (from aiohttp->lightrag-hku) (1.21.0)\n",
      "Requirement already satisfied: ascii_colors>=0.8.0 in /usr/local/lib/python3.11/site-packages (from pipmaster->lightrag-hku) (0.11.4)\n",
      "Requirement already satisfied: annotated-types>=0.6.0 in /usr/local/lib/python3.11/site-packages (from pydantic->lightrag-hku) (0.7.0)\n",
      "Requirement already satisfied: pydantic-core==2.33.2 in /usr/local/lib/python3.11/site-packages (from pydantic->lightrag-hku) (2.33.2)\n",
      "Requirement already satisfied: typing-inspection>=0.4.0 in /usr/local/lib/python3.11/site-packages (from pydantic->lightrag-hku) (0.4.2)\n",
      "Requirement already satisfied: joblib>=1.2.0 in /usr/local/lib/python3.11/site-packages (from scikit-learn->sentence-transformers) (1.5.2)\n",
      "Requirement already satisfied: threadpoolctl>=3.1.0 in /usr/local/lib/python3.11/site-packages (from scikit-learn->sentence-transformers) (3.6.0)\n",
      "Requirement already satisfied: wcwidth in /Users/josephgeorge/Library/Python/3.11/lib/python/site-packages (from ascii_colors>=0.8.0->pipmaster->lightrag-hku) (0.2.14)\n",
      "Requirement already satisfied: six>=1.5 in /Users/josephgeorge/Library/Python/3.11/lib/python/site-packages (from python-dateutil>=2.8.2->pandas>=2.0.0->lightrag-hku) (1.17.0)\n",
      "Requirement already satisfied: charset_normalizer<4,>=2 in /usr/local/lib/python3.11/site-packages (from requests->huggingface-hub>=0.20.0->sentence-transformers) (3.4.3)\n",
      "Requirement already satisfied: idna<4,>=2.5 in /usr/local/lib/python3.11/site-packages (from requests->huggingface-hub>=0.20.0->sentence-transformers) (3.10)\n",
      "Requirement already satisfied: urllib3<3,>=1.21.1 in /usr/local/lib/python3.11/site-packages (from requests->huggingface-hub>=0.20.0->sentence-transformers) (2.5.0)\n",
      "Requirement already satisfied: certifi>=2017.4.17 in /usr/local/lib/python3.11/site-packages (from requests->huggingface-hub>=0.20.0->sentence-transformers) (2025.10.5)\n",
      "Requirement already satisfied: MarkupSafe>=2.0 in /usr/local/lib/python3.11/site-packages (from jinja2->torch>=1.11.0->sentence-transformers) (3.0.3)\n",
      "Requirement already satisfied: mpmath<1.4,>=1.1.0 in /usr/local/lib/python3.11/site-packages (from sympy->torch>=1.11.0->sentence-transformers) (1.3.0)\n",
      "Downloading lightrag_hku-1.4.9.2-py3-none-any.whl (3.7 MB)\n",
      "\u001b[2K   \u001b[90m━━━━━━━━━━━━━━━━━━━━━━━━━━━━━━━━━━━━━━━━\u001b[0m \u001b[32m3.7/3.7 MB\u001b[0m \u001b[31m44.9 kB/s\u001b[0m eta \u001b[36m0:00:00\u001b[0ma \u001b[36m0:00:04\u001b[0m\n",
      "\u001b[?25hInstalling collected packages: lightrag-hku\n",
      "  Attempting uninstall: lightrag-hku\n",
      "    Found existing installation: lightrag-hku 1.4.9.1\n",
      "    Uninstalling lightrag-hku-1.4.9.1:\n",
      "      Successfully uninstalled lightrag-hku-1.4.9.1\n",
      "Successfully installed lightrag-hku-1.4.9.2\n",
      "\n",
      "\u001b[1m[\u001b[0m\u001b[34;49mnotice\u001b[0m\u001b[1;39;49m]\u001b[0m\u001b[39;49m A new release of pip is available: \u001b[0m\u001b[31;49m24.2\u001b[0m\u001b[39;49m -> \u001b[0m\u001b[32;49m25.2\u001b[0m\n",
      "\u001b[1m[\u001b[0m\u001b[34;49mnotice\u001b[0m\u001b[1;39;49m]\u001b[0m\u001b[39;49m To update, run: \u001b[0m\u001b[32;49mpython3.11 -m pip install --upgrade pip\u001b[0m\n",
      "Note: you may need to restart the kernel to use updated packages.\n"
     ]
    }
   ],
   "source": [
    "# !pip install \"lightrag-hku\"\n",
    "%pip install -U faiss-cpu python-dotenv \"lightrag-hku\" neo4j sentence-transformers python-dotenv pytest faiss-cpu accelerate bitsandbytes"
   ]
  },
  {
   "cell_type": "code",
   "execution_count": 9,
   "id": "65618e66",
   "metadata": {},
   "outputs": [
    {
     "name": "stdout",
     "output_type": "stream",
     "text": [
      "Requirement already satisfied: bitsandbytes in /usr/local/lib/python3.11/site-packages (0.42.0)\n",
      "Requirement already satisfied: torch in /usr/local/lib/python3.11/site-packages (2.2.2)\n",
      "Requirement already satisfied: httpx in /usr/local/lib/python3.11/site-packages (0.28.1)\n",
      "Requirement already satisfied: scipy in /usr/local/lib/python3.11/site-packages (from bitsandbytes) (1.16.2)\n",
      "Requirement already satisfied: filelock in /usr/local/lib/python3.11/site-packages (from torch) (3.19.1)\n",
      "Requirement already satisfied: typing-extensions>=4.8.0 in /Users/josephgeorge/Library/Python/3.11/lib/python/site-packages (from torch) (4.15.0)\n",
      "Requirement already satisfied: sympy in /usr/local/lib/python3.11/site-packages (from torch) (1.14.0)\n",
      "Requirement already satisfied: networkx in /usr/local/lib/python3.11/site-packages (from torch) (3.5)\n",
      "Requirement already satisfied: jinja2 in /usr/local/lib/python3.11/site-packages (from torch) (3.1.6)\n",
      "Requirement already satisfied: fsspec in /usr/local/lib/python3.11/site-packages (from torch) (2025.9.0)\n",
      "Requirement already satisfied: anyio in /usr/local/lib/python3.11/site-packages (from httpx) (4.11.0)\n",
      "Requirement already satisfied: certifi in /usr/local/lib/python3.11/site-packages (from httpx) (2025.10.5)\n",
      "Requirement already satisfied: httpcore==1.* in /usr/local/lib/python3.11/site-packages (from httpx) (1.0.9)\n",
      "Requirement already satisfied: idna in /usr/local/lib/python3.11/site-packages (from httpx) (3.10)\n",
      "Requirement already satisfied: h11>=0.16 in /usr/local/lib/python3.11/site-packages (from httpcore==1.*->httpx) (0.16.0)\n",
      "Requirement already satisfied: sniffio>=1.1 in /usr/local/lib/python3.11/site-packages (from anyio->httpx) (1.3.1)\n",
      "Requirement already satisfied: MarkupSafe>=2.0 in /usr/local/lib/python3.11/site-packages (from jinja2->torch) (3.0.3)\n",
      "Requirement already satisfied: numpy<2.6,>=1.25.2 in /usr/local/lib/python3.11/site-packages (from scipy->bitsandbytes) (2.3.3)\n",
      "Requirement already satisfied: mpmath<1.4,>=1.1.0 in /usr/local/lib/python3.11/site-packages (from sympy->torch) (1.3.0)\n",
      "\n",
      "\u001b[1m[\u001b[0m\u001b[34;49mnotice\u001b[0m\u001b[1;39;49m]\u001b[0m\u001b[39;49m A new release of pip is available: \u001b[0m\u001b[31;49m24.2\u001b[0m\u001b[39;49m -> \u001b[0m\u001b[32;49m25.2\u001b[0m\n",
      "\u001b[1m[\u001b[0m\u001b[34;49mnotice\u001b[0m\u001b[1;39;49m]\u001b[0m\u001b[39;49m To update, run: \u001b[0m\u001b[32;49mpython3.11 -m pip install --upgrade pip\u001b[0m\n",
      "Note: you may need to restart the kernel to use updated packages.\n"
     ]
    }
   ],
   "source": [
    "%pip install -U bitsandbytes torch httpx"
   ]
  },
  {
   "cell_type": "code",
   "execution_count": 18,
   "id": "2c0c117f",
   "metadata": {},
   "outputs": [
    {
     "data": {
      "text/plain": [
       "True"
      ]
     },
     "execution_count": 18,
     "metadata": {},
     "output_type": "execute_result"
    }
   ],
   "source": [
    "from ingestion import initialize_rag, index_file\n",
    "from retrieve import run_async_query\n",
    "from dotenv import load_dotenv\n",
    "import asyncio\n",
    "load_dotenv()\n",
    "\n"
   ]
  },
  {
   "cell_type": "code",
   "execution_count": 19,
   "id": "2ef9bd6b",
   "metadata": {},
   "outputs": [],
   "source": [
    "async def print_stream(stream):\n",
    "    async for chunk in stream:\n",
    "        print(chunk, end=\"\", flush=True)\n"
   ]
  },
  {
   "cell_type": "code",
   "execution_count": 20,
   "id": "0a172ef9",
   "metadata": {},
   "outputs": [],
   "source": [
    "from lightrag import  QueryParam\n",
    "import inspect\n",
    "async def main(question: str, mode, data_path: str = \"data/data.txt\") -> None:\n",
    "    \"\"\"\n",
    "    1. Initialize RAG\n",
    "    2. Index file (open file, read file, chunking, stream each chunk to both vector store and knowldege graph) all being done by rag.ainsert().\n",
    "    3. Run async queries\n",
    "    \"\"\"\n",
    "    rag = await initialize_rag()\n",
    "    \n",
    "    # Test embedding function\n",
    "    test_text = [\"This is a test string for embedding.\"]\n",
    "    embedding = await rag.embedding_func(test_text)\n",
    "    embedding_dim = embedding.shape[1]\n",
    "    print(\"\\n=======================\")\n",
    "    print(\"Test embedding function\")\n",
    "    print(\"========================\")\n",
    "    print(f\"Test dict: {test_text}\")\n",
    "    print(f\"Detected embedding dimension: {embedding_dim}\\n\\n\")    \n",
    "\n",
    "    await index_file(rag, data_path) # this function wait here until all files be\n",
    "\n",
    "    # Perform local search\n",
    "    print(\"\\n=====================\")\n",
    "    print(\"Query mode: local\")\n",
    "    print(\"=====================\")\n",
    "    resp = await rag.aquery(\n",
    "            \"What are the top themes in this data?\",\n",
    "            param=QueryParam(mode=\"local\", stream=True),\n",
    "        )\n",
    "    if inspect.isasyncgen(resp):\n",
    "            await print_stream(resp)\n",
    "    else:\n",
    "            print(resp)\n",
    "    # run query\n",
    "    resp_async = await run_async_query(rag, question, mode)\n",
    "    print(\"\\n===== Query Result =====\\n\")\n",
    "    print(resp_async)\n",
    "\n",
    "  "
   ]
  },
  {
   "cell_type": "code",
   "execution_count": 21,
   "id": "2004647a",
   "metadata": {},
   "outputs": [
    {
     "name": "stderr",
     "output_type": "stream",
     "text": [
      "INFO: [_] Created new empty graph fiel: ./rag_storage/graph_chunk_entity_relation.graphml\n",
      "INFO:nano-vectordb:Init {'embedding_dim': 1024, 'metric': 'cosine', 'storage_file': './rag_storage/vdb_entities.json'} 0 data\n",
      "INFO:nano-vectordb:Init {'embedding_dim': 1024, 'metric': 'cosine', 'storage_file': './rag_storage/vdb_relationships.json'} 0 data\n",
      "INFO:nano-vectordb:Init {'embedding_dim': 1024, 'metric': 'cosine', 'storage_file': './rag_storage/vdb_chunks.json'} 0 data\n",
      "INFO: Embedding func: 8 new workers initialized (Timeouts: Func: 30s, Worker: 60s, Health Check: 75s)\n",
      "WARNING: Ignoring document ID (already exists): doc-9c4432771f62bbc9695b81325e5f4435 (data/data.txt)\n",
      "WARNING: No new unique documents were found.\n",
      "INFO: Reset 2 documents from PROCESSING/FAILED to PENDING status\n",
      "INFO: Processing 2 document(s)\n",
      "INFO: Extracting stage 1/2: data/data_2.txt\n",
      "INFO: Processing d-id: doc-e922ef7ae031528373ad6f0a33b25d1d\n",
      "INFO: Extracting stage 2/2: data/data_2.txt\n",
      "INFO: Processing d-id: doc-9c4432771f62bbc9695b81325e5f4435\n"
     ]
    },
    {
     "name": "stdout",
     "output_type": "stream",
     "text": [
      "\n",
      "=======================\n",
      "Test embedding function\n",
      "========================\n",
      "Test dict: ['This is a test string for embedding.']\n",
      "Detected embedding dimension: 768\n",
      "\n",
      "\n"
     ]
    },
    {
     "name": "stderr",
     "output_type": "stream",
     "text": [
      "WARNING: Embedding func: Worker timeout for task 4737753808_47150.004039101 after 60s\n",
      "ERROR: Traceback (most recent call last):\n",
      "  File \"/usr/local/lib/python3.11/site-packages/lightrag/utils.py\", line 835, in wait_func\n",
      "    return await future\n",
      "           ^^^^^^^^^^^^\n",
      "  File \"/usr/local/Cellar/python@3.11/3.11.10/Frameworks/Python.framework/Versions/3.11/lib/python3.11/asyncio/futures.py\", line 287, in __await__\n",
      "    yield self  # This tells Task to wait for completion.\n",
      "    ^^^^^^^^^^\n",
      "  File \"/usr/local/Cellar/python@3.11/3.11.10/Frameworks/Python.framework/Versions/3.11/lib/python3.11/asyncio/tasks.py\", line 349, in __wakeup\n",
      "    future.result()\n",
      "  File \"/usr/local/Cellar/python@3.11/3.11.10/Frameworks/Python.framework/Versions/3.11/lib/python3.11/asyncio/futures.py\", line 203, in result\n",
      "    raise self._exception.with_traceback(self._exception_tb)\n",
      "lightrag.utils.WorkerTimeoutError: Worker execution timeout after 60s\n",
      "\n",
      "During handling of the above exception, another exception occurred:\n",
      "\n",
      "Traceback (most recent call last):\n",
      "  File \"/usr/local/lib/python3.11/site-packages/lightrag/lightrag.py\", line 1592, in process_document\n",
      "    entity_relation_task = None\n",
      "  File \"/usr/local/Cellar/python@3.11/3.11.10/Frameworks/Python.framework/Versions/3.11/lib/python3.11/asyncio/tasks.py\", line 349, in __wakeup\n",
      "    future.result()\n",
      "  File \"/usr/local/Cellar/python@3.11/3.11.10/Frameworks/Python.framework/Versions/3.11/lib/python3.11/asyncio/tasks.py\", line 279, in __step\n",
      "    result = coro.throw(exc)\n",
      "             ^^^^^^^^^^^^^^^\n",
      "  File \"/usr/local/lib/python3.11/site-packages/lightrag/kg/nano_vector_db_impl.py\", line 119, in upsert\n",
      "    embeddings_list = await asyncio.gather(*embedding_tasks)\n",
      "                      ^^^^^^^^^^^^^^^^^^^^^^^^^^^^^^^^^^^^^^\n",
      "  File \"/usr/local/Cellar/python@3.11/3.11.10/Frameworks/Python.framework/Versions/3.11/lib/python3.11/asyncio/tasks.py\", line 349, in __wakeup\n",
      "    future.result()\n",
      "  File \"/usr/local/Cellar/python@3.11/3.11.10/Frameworks/Python.framework/Versions/3.11/lib/python3.11/asyncio/tasks.py\", line 279, in __step\n",
      "    result = coro.throw(exc)\n",
      "             ^^^^^^^^^^^^^^^\n",
      "  File \"/usr/local/lib/python3.11/site-packages/lightrag/utils.py\", line 861, in wait_func\n",
      "    raise TimeoutError(f\"{queue_name}: {str(e)}\")\n",
      "TimeoutError: Embedding func: Worker execution timeout after 60s\n",
      "\n",
      "ERROR: Failed to extract document 1/2: data/data_2.txt\n",
      "WARNING: Embedding func: Worker timeout for task 4739921040_47150.004069369 after 60s\n",
      "WARNING: Embedding func: Worker timeout for task 4739365200_47150.004089032 after 60s\n",
      "ERROR: Traceback (most recent call last):\n",
      "  File \"/usr/local/lib/python3.11/site-packages/lightrag/utils.py\", line 835, in wait_func\n",
      "    return await future\n",
      "           ^^^^^^^^^^^^\n",
      "  File \"/usr/local/Cellar/python@3.11/3.11.10/Frameworks/Python.framework/Versions/3.11/lib/python3.11/asyncio/futures.py\", line 287, in __await__\n",
      "    yield self  # This tells Task to wait for completion.\n",
      "    ^^^^^^^^^^\n",
      "  File \"/usr/local/Cellar/python@3.11/3.11.10/Frameworks/Python.framework/Versions/3.11/lib/python3.11/asyncio/tasks.py\", line 349, in __wakeup\n",
      "    future.result()\n",
      "  File \"/usr/local/Cellar/python@3.11/3.11.10/Frameworks/Python.framework/Versions/3.11/lib/python3.11/asyncio/futures.py\", line 203, in result\n",
      "    raise self._exception.with_traceback(self._exception_tb)\n",
      "lightrag.utils.WorkerTimeoutError: Worker execution timeout after 60s\n",
      "\n",
      "During handling of the above exception, another exception occurred:\n",
      "\n",
      "Traceback (most recent call last):\n",
      "  File \"/usr/local/lib/python3.11/site-packages/lightrag/lightrag.py\", line 1592, in process_document\n",
      "    entity_relation_task = None\n",
      "  File \"/usr/local/Cellar/python@3.11/3.11.10/Frameworks/Python.framework/Versions/3.11/lib/python3.11/asyncio/tasks.py\", line 349, in __wakeup\n",
      "    future.result()\n",
      "  File \"/usr/local/Cellar/python@3.11/3.11.10/Frameworks/Python.framework/Versions/3.11/lib/python3.11/asyncio/tasks.py\", line 279, in __step\n",
      "    result = coro.throw(exc)\n",
      "             ^^^^^^^^^^^^^^^\n",
      "  File \"/usr/local/lib/python3.11/site-packages/lightrag/kg/nano_vector_db_impl.py\", line 119, in upsert\n",
      "    embeddings_list = await asyncio.gather(*embedding_tasks)\n",
      "                      ^^^^^^^^^^^^^^^^^^^^^^^^^^^^^^^^^^^^^^\n",
      "  File \"/usr/local/Cellar/python@3.11/3.11.10/Frameworks/Python.framework/Versions/3.11/lib/python3.11/asyncio/tasks.py\", line 349, in __wakeup\n",
      "    future.result()\n",
      "  File \"/usr/local/Cellar/python@3.11/3.11.10/Frameworks/Python.framework/Versions/3.11/lib/python3.11/asyncio/tasks.py\", line 279, in __step\n",
      "    result = coro.throw(exc)\n",
      "             ^^^^^^^^^^^^^^^\n",
      "  File \"/usr/local/lib/python3.11/site-packages/lightrag/utils.py\", line 861, in wait_func\n",
      "    raise TimeoutError(f\"{queue_name}: {str(e)}\")\n",
      "TimeoutError: Embedding func: Worker execution timeout after 60s\n",
      "\n",
      "ERROR: Failed to extract document 2/2: data/data_2.txt\n",
      "INFO: Enqueued document processing pipeline stoped\n"
     ]
    },
    {
     "name": "stdout",
     "output_type": "stream",
     "text": [
      "\n",
      "=====================\n",
      "Query mode: local\n",
      "=====================\n"
     ]
    },
    {
     "name": "stderr",
     "output_type": "stream",
     "text": [
      "INFO: Query nodes: Analysis methods, Key findings, Trends, Patterns (top_k:40, cosine:0.2)\n",
      "ERROR: Query failed: shapes (0,1024) and (768,) not aligned: 1024 (dim 1) != 768 (dim 0)\n",
      "INFO: Query nodes: Name, Phone number (top_k:5, cosine:0.2)\n"
     ]
    },
    {
     "name": "stdout",
     "output_type": "stream",
     "text": [
      "None\n"
     ]
    },
    {
     "name": "stderr",
     "output_type": "stream",
     "text": [
      "ERROR: Query failed: shapes (0,1024) and (768,) not aligned: 1024 (dim 1) != 768 (dim 0)\n"
     ]
    },
    {
     "name": "stdout",
     "output_type": "stream",
     "text": [
      "\n",
      "===== Query Result =====\n",
      "\n",
      "None\n"
     ]
    }
   ],
   "source": [
    "question = \"Extract the Escrow Agent name and phone number?\"\n",
    "mode=\"hybrid\"\n",
    "asyncio.run(main(question=question, mode=mode))"
   ]
  }
 ],
 "metadata": {
  "kernelspec": {
   "display_name": "Python 3",
   "language": "python",
   "name": "python3"
  },
  "language_info": {
   "codemirror_mode": {
    "name": "ipython",
    "version": 3
   },
   "file_extension": ".py",
   "mimetype": "text/x-python",
   "name": "python",
   "nbconvert_exporter": "python",
   "pygments_lexer": "ipython3",
   "version": "3.11.10"
  }
 },
 "nbformat": 4,
 "nbformat_minor": 5
}
